{
 "cells": [
  {
   "cell_type": "code",
   "execution_count": 1,
   "id": "e3a6014a",
   "metadata": {},
   "outputs": [],
   "source": [
    "import pandas                 as pd\n",
    "import seaborn                as sns\n",
    "import matplotlib.pyplot      as plt\n",
    "\n",
    "from sklearn.linear_model    import LinearRegression\n",
    "from sklearn.model_selection import train_test_split\n",
    "from sklearn.metrics         import r2_score"
   ]
  },
  {
   "cell_type": "code",
   "execution_count": 2,
   "id": "25207a2b",
   "metadata": {},
   "outputs": [],
   "source": [
    "df = pd.read_excel('4dd_Teste_Técnico_Pleno_CMI_Daiane.xlsx', sheet_name = 'Reestruturada')"
   ]
  },
  {
   "cell_type": "code",
   "execution_count": 3,
   "id": "612b75e5",
   "metadata": {},
   "outputs": [
    {
     "data": {
      "text/plain": [
       "Index(['Nº respondent.', 'Mês da pesquisa', 'Marca',\n",
       "       'O quão disposto você estaria a recomendar? (Em uma escala de 0 à 10)',\n",
       "       'É uma marca que todos falam bem',\n",
       "       'Relaciono os produtos dessa marca com hábitos saudáveis',\n",
       "       'Eu entento os valores da marca',\n",
       "       'É uma marca com preocupação ambiental',\n",
       "       'Tem uma variedade de produtos que combinam com minha pele',\n",
       "       'As promoções são atrativas', 'Os produtos são de qualidade',\n",
       "       'Melhora o rendimento das revendedoras',\n",
       "       'É uma marca que me oferece brindes e benefícios',\n",
       "       'É uma marca mais barata que as outras da mesma categoria',\n",
       "       'É uma marca focada no consumidor', 'É amigável',\n",
       "       'Tem um bom custo benefício',\n",
       "       'Consigo perceber a tecnologia do produto', 'É uma marca profissional',\n",
       "       'Tenho confiança na marca', 'Torna a minha vida mais prática',\n",
       "       'Conversa com a minha auto estima',\n",
       "       'É uma marca de comunicação divertida', 'Oferece sempre novidades',\n",
       "       'É a marca líder na categoria',\n",
       "       'É uma marca que se preocupa com o usuário.'],\n",
       "      dtype='object')"
      ]
     },
     "execution_count": 3,
     "metadata": {},
     "output_type": "execute_result"
    }
   ],
   "source": [
    "df.columns"
   ]
  },
  {
   "cell_type": "code",
   "execution_count": 4,
   "id": "8a7b0880",
   "metadata": {},
   "outputs": [
    {
     "data": {
      "text/plain": [
       "Nº respondent.                                                                   int64\n",
       "Mês da pesquisa                                                         datetime64[ns]\n",
       "Marca                                                                           object\n",
       "O quão disposto você estaria a recomendar? (Em uma escala de 0 à 10)             int64\n",
       "É uma marca que todos falam bem                                                 object\n",
       "Relaciono os produtos dessa marca com hábitos saudáveis                         object\n",
       "Eu entento os valores da marca                                                  object\n",
       "É uma marca com preocupação ambiental                                           object\n",
       "Tem uma variedade de produtos que combinam com minha pele                       object\n",
       "As promoções são atrativas                                                      object\n",
       "Os produtos são de qualidade                                                    object\n",
       "Melhora o rendimento das revendedoras                                           object\n",
       "É uma marca que me oferece brindes e benefícios                                 object\n",
       "É uma marca mais barata que as outras da mesma categoria                        object\n",
       "É uma marca focada no consumidor                                                object\n",
       "É amigável                                                                      object\n",
       "Tem um bom custo benefício                                                      object\n",
       "Consigo perceber a tecnologia do produto                                        object\n",
       "É uma marca profissional                                                        object\n",
       "Tenho confiança na marca                                                        object\n",
       "Torna a minha vida mais prática                                                 object\n",
       "Conversa com a minha auto estima                                                object\n",
       "É uma marca de comunicação divertida                                            object\n",
       "Oferece sempre novidades                                                        object\n",
       "É a marca líder na categoria                                                    object\n",
       "É uma marca que se preocupa com o usuário.                                      object\n",
       "dtype: object"
      ]
     },
     "execution_count": 4,
     "metadata": {},
     "output_type": "execute_result"
    }
   ],
   "source": [
    "df.dtypes"
   ]
  },
  {
   "cell_type": "code",
   "execution_count": 5,
   "id": "377910fb",
   "metadata": {},
   "outputs": [],
   "source": [
    "#extraindo o mês e ano da coluna 'Mês da pesquisa'\n",
    "df['Mês da pesquisa'] = df['Mês da pesquisa'].dt.strftime('%Y-%m')"
   ]
  },
  {
   "cell_type": "code",
   "execution_count": 6,
   "id": "344b2057",
   "metadata": {},
   "outputs": [],
   "source": [
    "#criando uma coluna demarcando \"1\" para cada respondente para facilitar os códigos com groupby\n",
    "df['qtde_respondentes'] = 1"
   ]
  },
  {
   "cell_type": "code",
   "execution_count": 7,
   "id": "41362b27",
   "metadata": {},
   "outputs": [
    {
     "data": {
      "text/plain": [
       "Marca  Mês da pesquisa\n",
       "A      2022-04            1119\n",
       "B      2022-04            1119\n",
       "A      2022-03            1065\n",
       "B      2022-03            1065\n",
       "dtype: int64"
      ]
     },
     "execution_count": 7,
     "metadata": {},
     "output_type": "execute_result"
    }
   ],
   "source": [
    "numero_pessoas_consultadas = df[['Marca', 'Mês da pesquisa']].value_counts()\n",
    "numero_pessoas_consultadas"
   ]
  },
  {
   "cell_type": "code",
   "execution_count": 8,
   "id": "77a5ac91",
   "metadata": {},
   "outputs": [],
   "source": [
    "#separando o df para as diferentes marcas\n",
    "df_marca_A = df.loc[df['Marca'] == 'A']\n",
    "df_marca_B = df.loc[df['Marca'] == 'B']"
   ]
  },
  {
   "cell_type": "code",
   "execution_count": 28,
   "id": "800dc38d",
   "metadata": {},
   "outputs": [],
   "source": [
    "grau_recomendacao_marca_A = df_marca_A[['Marca','Mês da pesquisa','O quão disposto você estaria a recomendar? (Em uma escala de 0 à 10)',\n",
    "                                                       'qtde_respondentes']].groupby(['Marca','Mês da pesquisa','O quão disposto você estaria a recomendar? (Em uma escala de 0 à 10)']).sum().reset_index()\n",
    "grau_recomendacao_marca_B = df_marca_B[['Marca','Mês da pesquisa','O quão disposto você estaria a recomendar? (Em uma escala de 0 à 10)',\n",
    "                                                        'qtde_respondentes']].groupby(['Marca','Mês da pesquisa','O quão disposto você estaria a recomendar? (Em uma escala de 0 à 10)']).sum().reset_index()"
   ]
  },
  {
   "cell_type": "code",
   "execution_count": 31,
   "id": "5565564e",
   "metadata": {},
   "outputs": [
    {
     "data": {
      "image/png": "[encoded data removed]",
      "text/plain": [
       "<Figure size 640x480 with 1 Axes>"
      ]
     },
     "metadata": {},
     "output_type": "display_data"
    }
   ],
   "source": [
    "#plotando grafico para ver a distribuição dos graus de recomendação para a Marca B\n",
    "sns.barplot(x='O quão disposto você estaria a recomendar? (Em uma escala de 0 à 10)', y='qtde_respondentes', \n",
    "            hue='Mês da pesquisa', data=grau_recomendacao_marca_A)\n",
    "plt.title('Recomendação - Marca A')\n",
    "plt.xlabel('Notas de 0 a 10')\n",
    "plt.ylabel('Quantidade de respondentes')\n",
    "\n",
    "plt.show()"
   ]
  },
  {
   "cell_type": "code",
   "execution_count": 32,
   "id": "228575a8",
   "metadata": {},
   "outputs": [
    {
     "data": {
      "image/png": "[encoded data removed]",
      "text/plain": [
       "<Figure size 640x480 with 1 Axes>"
      ]
     },
     "metadata": {},
     "output_type": "display_data"
    }
   ],
   "source": [
    "#plotando grafico para ver a distribuição dos graus de recomendação para a Marca B\n",
    "sns.barplot(x='O quão disposto você estaria a recomendar? (Em uma escala de 0 à 10)', y='qtde_respondentes', \n",
    "            hue='Mês da pesquisa', data=grau_recomendacao_marca_B)\n",
    "plt.title('Recomendação - Marca B')\n",
    "plt.xlabel('Notas de 0 a 10')\n",
    "plt.ylabel('Quantidade de respondentes')\n",
    "\n",
    "plt.show()"
   ]
  },
  {
   "cell_type": "markdown",
   "id": "ea4a93dc",
   "metadata": {},
   "source": [
    "1.Há associação ou não com as frases “conversa” de alguma forma com o grau de recomendação para as marcas A e B?"
   ]
  },
  {
   "cell_type": "code",
   "execution_count": 13,
   "id": "1cd93818",
   "metadata": {},
   "outputs": [],
   "source": [
    "#calculando média e desvio padrão dos graus de recomendação em relação a variável'Conversa com a minha auto estima' - Marca A\n",
    "media_marca_A = df_marca_A.groupby('Conversa com a minha auto estima')['O quão disposto você estaria a recomendar? (Em uma escala de 0 à 10)'].mean()\n",
    "desvio_marca_A = df_marca_A.groupby('Conversa com a minha auto estima')['O quão disposto você estaria a recomendar? (Em uma escala de 0 à 10)'].std()"
   ]
  },
  {
   "cell_type": "code",
   "execution_count": 14,
   "id": "6bc0ac90",
   "metadata": {},
   "outputs": [
    {
     "data": {
      "text/plain": [
       "Conversa com a minha auto estima\n",
       "No     7.618768\n",
       "Yes    8.925433\n",
       "Name: O quão disposto você estaria a recomendar? (Em uma escala de 0 à 10), dtype: float64"
      ]
     },
     "execution_count": 14,
     "metadata": {},
     "output_type": "execute_result"
    }
   ],
   "source": [
    "media_marca_A"
   ]
  },
  {
   "cell_type": "code",
   "execution_count": 16,
   "id": "42812854",
   "metadata": {},
   "outputs": [
    {
     "data": {
      "text/plain": [
       "Conversa com a minha auto estima\n",
       "No     2.125601\n",
       "Yes    1.489839\n",
       "Name: O quão disposto você estaria a recomendar? (Em uma escala de 0 à 10), dtype: float64"
      ]
     },
     "execution_count": 16,
     "metadata": {},
     "output_type": "execute_result"
    }
   ],
   "source": [
    "desvio_marca_A"
   ]
  },
  {
   "cell_type": "code",
   "execution_count": 17,
   "id": "29012b04",
   "metadata": {},
   "outputs": [],
   "source": [
    "#calculando média e desvio padrão dos graus de recomendação em relação a variável'Conversa com a minha auto estima' - Marca B\n",
    "media_marca_B = df_marca_B.groupby('Conversa com a minha auto estima')['O quão disposto você estaria a recomendar? (Em uma escala de 0 à 10)'].mean()\n",
    "desvio_marca_B = df_marca_B.groupby('Conversa com a minha auto estima')['O quão disposto você estaria a recomendar? (Em uma escala de 0 à 10)'].std()"
   ]
  },
  {
   "cell_type": "code",
   "execution_count": 18,
   "id": "62a1d7c6",
   "metadata": {},
   "outputs": [
    {
     "data": {
      "text/plain": [
       "Conversa com a minha auto estima\n",
       "No     8.001866\n",
       "Yes    9.020024\n",
       "Name: O quão disposto você estaria a recomendar? (Em uma escala de 0 à 10), dtype: float64"
      ]
     },
     "execution_count": 18,
     "metadata": {},
     "output_type": "execute_result"
    }
   ],
   "source": [
    "media_marca_B"
   ]
  },
  {
   "cell_type": "code",
   "execution_count": 19,
   "id": "9fc005b6",
   "metadata": {},
   "outputs": [
    {
     "data": {
      "text/plain": [
       "Conversa com a minha auto estima\n",
       "No     2.132524\n",
       "Yes    1.464069\n",
       "Name: O quão disposto você estaria a recomendar? (Em uma escala de 0 à 10), dtype: float64"
      ]
     },
     "execution_count": 19,
     "metadata": {},
     "output_type": "execute_result"
    }
   ],
   "source": [
    "desvio_marca_B"
   ]
  },
  {
   "cell_type": "code",
   "execution_count": 20,
   "id": "74e181bb",
   "metadata": {},
   "outputs": [
    {
     "data": {
      "text/plain": [
       "Text(0, 0.5, 'Grau de recomendação ')"
      ]
     },
     "execution_count": 20,
     "metadata": {},
     "output_type": "execute_result"
    },
    {
     "data": {
      "image/png": "[encoded data removed]",
      "text/plain": [
       "<Figure size 640x480 with 1 Axes>"
      ]
     },
     "metadata": {},
     "output_type": "display_data"
    }
   ],
   "source": [
    "#plotando gráfico para analisar a correção entre o grau de recomendação e a variável'Conversa com a minha auto estima' - Marca A\n",
    "boxplot_marca_A = sns.boxplot(x='Conversa com a minha auto estima', y='O quão disposto você estaria a recomendar? (Em uma escala de 0 à 10)', \n",
    "                              data = df_marca_A)\n",
    "plt.title('Boxplot - Marca A')\n",
    "plt.xlabel('Categorias (Yes or No)')\n",
    "plt.ylabel('Grau de recomendação ')"
   ]
  },
  {
   "cell_type": "code",
   "execution_count": 21,
   "id": "59d3ed79",
   "metadata": {},
   "outputs": [
    {
     "data": {
      "text/plain": [
       "Text(0, 0.5, 'Grau de recomendação ')"
      ]
     },
     "execution_count": 21,
     "metadata": {},
     "output_type": "execute_result"
    },
    {
     "data": {
      "image/png": "[encoded data removed]",
      "text/plain": [
       "<Figure size 640x480 with 1 Axes>"
      ]
     },
     "metadata": {},
     "output_type": "display_data"
    }
   ],
   "source": [
    "#plotando gráfico para analisar a correção entre o grau de recomendação e a variável'Conversa com a minha auto estima' - Marca B\n",
    "ax = sns.boxplot(x='Conversa com a minha auto estima', y='O quão disposto você estaria a recomendar? (Em uma escala de 0 à 10)', \n",
    "                 data = df_marca_B)\n",
    "plt.title('Boxplot - Marca B')\n",
    "plt.xlabel('Categorias (Yes or No)')\n",
    "plt.ylabel('Grau de recomendação ')"
   ]
  },
  {
   "cell_type": "code",
   "execution_count": 22,
   "id": "e40c09b8",
   "metadata": {},
   "outputs": [
    {
     "name": "stderr",
     "output_type": "stream",
     "text": [
      "C:\\Users\\daiane.carvalho\\AppData\\Local\\Temp\\ipykernel_5264\\428106064.py:22: SettingWithCopyWarning: \n",
      "A value is trying to be set on a copy of a slice from a DataFrame.\n",
      "Try using .loc[row_indexer,col_indexer] = value instead\n",
      "\n",
      "See the caveats in the documentation: https://pandas.pydata.org/pandas-docs/stable/user_guide/indexing.html#returning-a-view-versus-a-copy\n",
      "  df_marca_A[coluna] = df_marca_A[coluna].apply(lambda x: 1 if x == 'Yes' else 0)\n"
     ]
    }
   ],
   "source": [
    "#transformando todos os \"Yes\" em 1 e \"No\" em 0 no df da Marca A\n",
    "colunas = {'Marca','É uma marca que todos falam bem',\n",
    "       'Relaciono os produtos dessa marca com hábitos saudáveis',\n",
    "       'Eu entento os valores da marca',\n",
    "       'É uma marca com preocupação ambiental',\n",
    "       'Tem uma variedade de produtos que combinam com minha pele',\n",
    "       'As promoções são atrativas', 'Os produtos são de qualidade',\n",
    "       'Melhora o rendimento das revendedoras',\n",
    "       'É uma marca que me oferece brindes e benefícios',\n",
    "       'É uma marca mais barata que as outras da mesma categoria',\n",
    "       'É uma marca focada no consumidor', 'É amigável',\n",
    "       'Tem um bom custo benefício',\n",
    "       'Consigo perceber a tecnologia do produto', 'É uma marca profissional',\n",
    "       'Tenho confiança na marca', 'Torna a minha vida mais prática',\n",
    "       'Conversa com a minha auto estima',\n",
    "       'É uma marca de comunicação divertida', 'Oferece sempre novidades',\n",
    "       'É a marca líder na categoria',\n",
    "       'É uma marca que se preocupa com o usuário.'}\n",
    "\n",
    "\n",
    "for coluna in colunas:\n",
    "    df_marca_A[coluna] = df_marca_A[coluna].apply(lambda x: 1 if x == 'Yes' else 0)"
   ]
  },
  {
   "cell_type": "code",
   "execution_count": 23,
   "id": "94d30178",
   "metadata": {},
   "outputs": [],
   "source": [
    "respostas_positivas_marca_A = df_marca_A[['Marca','qtde_respondentes','É uma marca que todos falam bem',\n",
    "       'Relaciono os produtos dessa marca com hábitos saudáveis',\n",
    "       'Eu entento os valores da marca',\n",
    "       'É uma marca com preocupação ambiental',\n",
    "       'Tem uma variedade de produtos que combinam com minha pele',\n",
    "       'As promoções são atrativas', 'Os produtos são de qualidade',\n",
    "       'Melhora o rendimento das revendedoras',\n",
    "       'É uma marca que me oferece brindes e benefícios',\n",
    "       'É uma marca mais barata que as outras da mesma categoria',\n",
    "       'É uma marca focada no consumidor', 'É amigável',\n",
    "       'Tem um bom custo benefício',\n",
    "       'Consigo perceber a tecnologia do produto', 'É uma marca profissional',\n",
    "       'Tenho confiança na marca', 'Torna a minha vida mais prática',\n",
    "       'Conversa com a minha auto estima',\n",
    "       'É uma marca de comunicação divertida', 'Oferece sempre novidades',\n",
    "       'É a marca líder na categoria',\n",
    "       'É uma marca que se preocupa com o usuário.']].groupby(['qtde_respondentes']).sum()"
   ]
  },
  {
   "cell_type": "code",
   "execution_count": 24,
   "id": "8864e157",
   "metadata": {},
   "outputs": [
    {
     "name": "stdout",
     "output_type": "stream",
     "text": [
      "Coeficiente: [0.08714067]\n",
      "Interceptação: -0.05439637508819528\n",
      "R²: 0.07395817555177808\n"
     ]
    }
   ],
   "source": [
    "#aplicação do modelo regressão linear para calcular a correlação entre o grau de recomendação e a 'Conversa com a minha auto estima' - Marca A\n",
    "X = df_marca_A[['O quão disposto você estaria a recomendar? (Em uma escala de 0 à 10)']] \n",
    "y = df_marca_A['Conversa com a minha auto estima']\n",
    "\n",
    "X_train, X_test, y_train, y_test = train_test_split(X, y, test_size=0.2, random_state=42)\n",
    "\n",
    "\n",
    "#treinando o modelo\n",
    "model = LinearRegression()\n",
    "model.fit(X_train, y_train)\n",
    "\n",
    "# Visualizar os coeficientes\n",
    "coeficientes = model.coef_\n",
    "intercept = model.intercept_\n",
    "print(\"Coeficiente:\", coeficientes)\n",
    "print(\"Interceptação:\", intercept)\n",
    "\n",
    "# Calcular e visualizar o R² no conjunto de teste\n",
    "r2 = model.score(X_test, y_test)\n",
    "print(\"R²:\", r2)\n",
    "\n",
    "# Fazer previsões no conjunto de teste\n",
    "y_pred = model.predict(X_test)"
   ]
  },
  {
   "cell_type": "code",
   "execution_count": 25,
   "id": "dab9f888",
   "metadata": {},
   "outputs": [
    {
     "name": "stderr",
     "output_type": "stream",
     "text": [
      "C:\\Users\\daiane.carvalho\\AppData\\Local\\Temp\\ipykernel_5264\\2655434667.py:22: SettingWithCopyWarning: \n",
      "A value is trying to be set on a copy of a slice from a DataFrame.\n",
      "Try using .loc[row_indexer,col_indexer] = value instead\n",
      "\n",
      "See the caveats in the documentation: https://pandas.pydata.org/pandas-docs/stable/user_guide/indexing.html#returning-a-view-versus-a-copy\n",
      "  df_marca_B[coluna] = df_marca_B[coluna].apply(lambda x: 1 if x == 'Yes' else 0)\n"
     ]
    }
   ],
   "source": [
    "#transformando todos os \"Yes\" em 1 e \"No\" em 0 no df da Marca B\n",
    "colunas = {'Marca','É uma marca que todos falam bem',\n",
    "       'Relaciono os produtos dessa marca com hábitos saudáveis',\n",
    "       'Eu entento os valores da marca',\n",
    "       'É uma marca com preocupação ambiental',\n",
    "       'Tem uma variedade de produtos que combinam com minha pele',\n",
    "       'As promoções são atrativas', 'Os produtos são de qualidade',\n",
    "       'Melhora o rendimento das revendedoras',\n",
    "       'É uma marca que me oferece brindes e benefícios',\n",
    "       'É uma marca mais barata que as outras da mesma categoria',\n",
    "       'É uma marca focada no consumidor', 'É amigável',\n",
    "       'Tem um bom custo benefício',\n",
    "       'Consigo perceber a tecnologia do produto', 'É uma marca profissional',\n",
    "       'Tenho confiança na marca', 'Torna a minha vida mais prática',\n",
    "       'Conversa com a minha auto estima',\n",
    "       'É uma marca de comunicação divertida', 'Oferece sempre novidades',\n",
    "       'É a marca líder na categoria',\n",
    "       'É uma marca que se preocupa com o usuário.'}\n",
    "\n",
    "\n",
    "for coluna in colunas:\n",
    "    df_marca_B[coluna] = df_marca_B[coluna].apply(lambda x: 1 if x == 'Yes' else 0)"
   ]
  },
  {
   "cell_type": "code",
   "execution_count": 26,
   "id": "3065ed14",
   "metadata": {},
   "outputs": [],
   "source": [
    "respostas_positivas_marca_B = df_marca_B[['Marca','qtde_respondentes','É uma marca que todos falam bem',\n",
    "       'Relaciono os produtos dessa marca com hábitos saudáveis',\n",
    "       'Eu entento os valores da marca',\n",
    "       'É uma marca com preocupação ambiental',\n",
    "       'Tem uma variedade de produtos que combinam com minha pele',\n",
    "       'As promoções são atrativas', 'Os produtos são de qualidade',\n",
    "       'Melhora o rendimento das revendedoras',\n",
    "       'É uma marca que me oferece brindes e benefícios',\n",
    "       'É uma marca mais barata que as outras da mesma categoria',\n",
    "       'É uma marca focada no consumidor', 'É amigável',\n",
    "       'Tem um bom custo benefício',\n",
    "       'Consigo perceber a tecnologia do produto', 'É uma marca profissional',\n",
    "       'Tenho confiança na marca', 'Torna a minha vida mais prática',\n",
    "       'Conversa com a minha auto estima',\n",
    "       'É uma marca de comunicação divertida', 'Oferece sempre novidades',\n",
    "       'É a marca líder na categoria',\n",
    "       'É uma marca que se preocupa com o usuário.']].groupby(['qtde_respondentes']).sum()"
   ]
  },
  {
   "cell_type": "code",
   "execution_count": 27,
   "id": "f34652fd",
   "metadata": {},
   "outputs": [
    {
     "name": "stdout",
     "output_type": "stream",
     "text": [
      "Coeficiente: [0.06468729]\n",
      "Interceptação: 0.18874489346938073\n",
      "R²: 0.05566650869643874\n"
     ]
    }
   ],
   "source": [
    "#aplicação do modelo regressão linear para calcular a correlação entre o grau de recomendação e a 'Conversa com a minha auto estima' - Marca B\n",
    "X = df_marca_B[['O quão disposto você estaria a recomendar? (Em uma escala de 0 à 10)']] \n",
    "y = df_marca_B['Conversa com a minha auto estima']\n",
    "\n",
    "X_train, X_test, y_train, y_test = train_test_split(X, y, test_size=0.2, random_state=42)\n",
    "\n",
    "\n",
    "#treinando o modelo\n",
    "model = LinearRegression()\n",
    "model.fit(X_train, y_train)\n",
    "\n",
    "# Visualizar os coeficientes\n",
    "coeficientes = model.coef_\n",
    "intercept = model.intercept_\n",
    "print(\"Coeficiente:\", coeficientes)\n",
    "print(\"Interceptação:\", intercept)\n",
    "\n",
    "# Calcular e visualizar o R² no conjunto de teste\n",
    "r2 = model.score(X_test, y_test)\n",
    "print(\"R²:\", r2)\n",
    "\n",
    "# Fazer previsões no conjunto de teste\n",
    "y_pred = model.predict(X_test)"
   ]
  },
  {
   "cell_type": "markdown",
   "id": "68b49558",
   "metadata": {},
   "source": [
    "##### A correlação entre o grau de recomendação e a variável \"Conversa com a minha auto estima\" é muito baixa, levando em consideração o conjunto de resultados obtidos com as médias, desvio padrão, gráficos e com a aplicação de regressão linear que confirmou uma correlação muito baixa entre as duas variáveis. Para a *Marca A* somente 7,3% do grau de recomendação estão relacionados com a variável \"Conversa com a minha auto estima\". Enquanto para a *Marca B* esse valor é ainda mais baixo, apenas 5,6%. Em resumo, pode ser considerado que o grau de recomendação tanto para a *Marca A* quanto para a *Marca B* não está relacionado á variável \"Conversa com a minha auto estima\"."
   ]
  },
  {
   "cell_type": "markdown",
   "id": "9b1556de",
   "metadata": {},
   "source": [
    "3.Se não: Somos a Marca A. Temos uma verba para investir em comunicação e queremos trazer pessoas da Marca B? No que devemos investir considerando o que é fortaleza para eles e fraqueza para a gente?"
   ]
  },
  {
   "cell_type": "code",
   "execution_count": 33,
   "id": "822527be",
   "metadata": {},
   "outputs": [
    {
     "data": {
      "text/html": [
       "<div>\n",
       "<style scoped>\n",
       "    .dataframe tbody tr th:only-of-type {\n",
       "        vertical-align: middle;\n",
       "    }\n",
       "\n",
       "    .dataframe tbody tr th {\n",
       "        vertical-align: top;\n",
       "    }\n",
       "\n",
       "    .dataframe thead th {\n",
       "        text-align: right;\n",
       "    }\n",
       "</style>\n",
       "<table border=\"1\" class=\"dataframe\">\n",
       "  <thead>\n",
       "    <tr style=\"text-align: right;\">\n",
       "      <th>qtde_respondentes</th>\n",
       "      <th>1</th>\n",
       "    </tr>\n",
       "  </thead>\n",
       "  <tbody>\n",
       "    <tr>\n",
       "      <th>Marca</th>\n",
       "      <td>0</td>\n",
       "    </tr>\n",
       "    <tr>\n",
       "      <th>É uma marca que todos falam bem</th>\n",
       "      <td>1226</td>\n",
       "    </tr>\n",
       "    <tr>\n",
       "      <th>Relaciono os produtos dessa marca com hábitos saudáveis</th>\n",
       "      <td>1384</td>\n",
       "    </tr>\n",
       "    <tr>\n",
       "      <th>Eu entento os valores da marca</th>\n",
       "      <td>1215</td>\n",
       "    </tr>\n",
       "    <tr>\n",
       "      <th>É uma marca com preocupação ambiental</th>\n",
       "      <td>1249</td>\n",
       "    </tr>\n",
       "    <tr>\n",
       "      <th>Tem uma variedade de produtos que combinam com minha pele</th>\n",
       "      <td>1449</td>\n",
       "    </tr>\n",
       "    <tr>\n",
       "      <th>As promoções são atrativas</th>\n",
       "      <td>1353</td>\n",
       "    </tr>\n",
       "    <tr>\n",
       "      <th>Os produtos são de qualidade</th>\n",
       "      <td>1426</td>\n",
       "    </tr>\n",
       "    <tr>\n",
       "      <th>Melhora o rendimento das revendedoras</th>\n",
       "      <td>1330</td>\n",
       "    </tr>\n",
       "    <tr>\n",
       "      <th>É uma marca que me oferece brindes e benefícios</th>\n",
       "      <td>1334</td>\n",
       "    </tr>\n",
       "    <tr>\n",
       "      <th>É uma marca mais barata que as outras da mesma categoria</th>\n",
       "      <td>1410</td>\n",
       "    </tr>\n",
       "    <tr>\n",
       "      <th>É uma marca focada no consumidor</th>\n",
       "      <td>1301</td>\n",
       "    </tr>\n",
       "    <tr>\n",
       "      <th>É amigável</th>\n",
       "      <td>1469</td>\n",
       "    </tr>\n",
       "    <tr>\n",
       "      <th>Tem um bom custo benefício</th>\n",
       "      <td>1537</td>\n",
       "    </tr>\n",
       "    <tr>\n",
       "      <th>Consigo perceber a tecnologia do produto</th>\n",
       "      <td>1237</td>\n",
       "    </tr>\n",
       "    <tr>\n",
       "      <th>É uma marca profissional</th>\n",
       "      <td>1555</td>\n",
       "    </tr>\n",
       "    <tr>\n",
       "      <th>Tenho confiança na marca</th>\n",
       "      <td>1312</td>\n",
       "    </tr>\n",
       "    <tr>\n",
       "      <th>Torna a minha vida mais prática</th>\n",
       "      <td>1583</td>\n",
       "    </tr>\n",
       "    <tr>\n",
       "      <th>Conversa com a minha auto estima</th>\n",
       "      <td>1502</td>\n",
       "    </tr>\n",
       "    <tr>\n",
       "      <th>É uma marca de comunicação divertida</th>\n",
       "      <td>1394</td>\n",
       "    </tr>\n",
       "    <tr>\n",
       "      <th>Oferece sempre novidades</th>\n",
       "      <td>1233</td>\n",
       "    </tr>\n",
       "    <tr>\n",
       "      <th>É a marca líder na categoria</th>\n",
       "      <td>1039</td>\n",
       "    </tr>\n",
       "    <tr>\n",
       "      <th>É uma marca que se preocupa com o usuário.</th>\n",
       "      <td>1187</td>\n",
       "    </tr>\n",
       "  </tbody>\n",
       "</table>\n",
       "</div>"
      ],
      "text/plain": [
       "qtde_respondentes                                      1\n",
       "Marca                                                  0\n",
       "É uma marca que todos falam bem                     1226\n",
       "Relaciono os produtos dessa marca com hábitos s...  1384\n",
       "Eu entento os valores da marca                      1215\n",
       "É uma marca com preocupação ambiental               1249\n",
       "Tem uma variedade de produtos que combinam com ...  1449\n",
       "As promoções são atrativas                          1353\n",
       "Os produtos são de qualidade                        1426\n",
       "Melhora o rendimento das revendedoras               1330\n",
       "É uma marca que me oferece brindes e benefícios     1334\n",
       "É uma marca mais barata que as outras da mesma ...  1410\n",
       "É uma marca focada no consumidor                    1301\n",
       "É amigável                                          1469\n",
       "Tem um bom custo benefício                          1537\n",
       "Consigo perceber a tecnologia do produto            1237\n",
       "É uma marca profissional                            1555\n",
       "Tenho confiança na marca                            1312\n",
       "Torna a minha vida mais prática                     1583\n",
       "Conversa com a minha auto estima                    1502\n",
       "É uma marca de comunicação divertida                1394\n",
       "Oferece sempre novidades                            1233\n",
       "É a marca líder na categoria                        1039\n",
       "É uma marca que se preocupa com o usuário.          1187"
      ]
     },
     "execution_count": 33,
     "metadata": {},
     "output_type": "execute_result"
    }
   ],
   "source": [
    "#análise das quantidades de \"Yes\" para cada variável,afim de identificiar os pontos fracos e fortes da Marca A\n",
    "respostas_positivas_marca_A.T"
   ]
  },
  {
   "cell_type": "code",
   "execution_count": 38,
   "id": "d13a1b2e",
   "metadata": {},
   "outputs": [
    {
     "data": {
      "text/html": [
       "<div>\n",
       "<style scoped>\n",
       "    .dataframe tbody tr th:only-of-type {\n",
       "        vertical-align: middle;\n",
       "    }\n",
       "\n",
       "    .dataframe tbody tr th {\n",
       "        vertical-align: top;\n",
       "    }\n",
       "\n",
       "    .dataframe thead th {\n",
       "        text-align: right;\n",
       "    }\n",
       "</style>\n",
       "<table border=\"1\" class=\"dataframe\">\n",
       "  <thead>\n",
       "    <tr style=\"text-align: right;\">\n",
       "      <th>qtde_respondentes</th>\n",
       "      <th>1</th>\n",
       "    </tr>\n",
       "  </thead>\n",
       "  <tbody>\n",
       "    <tr>\n",
       "      <th>Marca</th>\n",
       "      <td>0</td>\n",
       "    </tr>\n",
       "    <tr>\n",
       "      <th>É uma marca que todos falam bem</th>\n",
       "      <td>1307</td>\n",
       "    </tr>\n",
       "    <tr>\n",
       "      <th>Relaciono os produtos dessa marca com hábitos saudáveis</th>\n",
       "      <td>1655</td>\n",
       "    </tr>\n",
       "    <tr>\n",
       "      <th>Eu entento os valores da marca</th>\n",
       "      <td>1238</td>\n",
       "    </tr>\n",
       "    <tr>\n",
       "      <th>É uma marca com preocupação ambiental</th>\n",
       "      <td>1254</td>\n",
       "    </tr>\n",
       "    <tr>\n",
       "      <th>Tem uma variedade de produtos que combinam com minha pele</th>\n",
       "      <td>1604</td>\n",
       "    </tr>\n",
       "    <tr>\n",
       "      <th>As promoções são atrativas</th>\n",
       "      <td>1103</td>\n",
       "    </tr>\n",
       "    <tr>\n",
       "      <th>Os produtos são de qualidade</th>\n",
       "      <td>1677</td>\n",
       "    </tr>\n",
       "    <tr>\n",
       "      <th>Melhora o rendimento das revendedoras</th>\n",
       "      <td>1274</td>\n",
       "    </tr>\n",
       "    <tr>\n",
       "      <th>É uma marca que me oferece brindes e benefícios</th>\n",
       "      <td>1552</td>\n",
       "    </tr>\n",
       "    <tr>\n",
       "      <th>É uma marca mais barata que as outras da mesma categoria</th>\n",
       "      <td>908</td>\n",
       "    </tr>\n",
       "    <tr>\n",
       "      <th>É uma marca focada no consumidor</th>\n",
       "      <td>1410</td>\n",
       "    </tr>\n",
       "    <tr>\n",
       "      <th>É amigável</th>\n",
       "      <td>1523</td>\n",
       "    </tr>\n",
       "    <tr>\n",
       "      <th>Tem um bom custo benefício</th>\n",
       "      <td>1272</td>\n",
       "    </tr>\n",
       "    <tr>\n",
       "      <th>Consigo perceber a tecnologia do produto</th>\n",
       "      <td>1409</td>\n",
       "    </tr>\n",
       "    <tr>\n",
       "      <th>É uma marca profissional</th>\n",
       "      <td>1714</td>\n",
       "    </tr>\n",
       "    <tr>\n",
       "      <th>Tenho confiança na marca</th>\n",
       "      <td>1572</td>\n",
       "    </tr>\n",
       "    <tr>\n",
       "      <th>Torna a minha vida mais prática</th>\n",
       "      <td>1675</td>\n",
       "    </tr>\n",
       "    <tr>\n",
       "      <th>Conversa com a minha auto estima</th>\n",
       "      <td>1648</td>\n",
       "    </tr>\n",
       "    <tr>\n",
       "      <th>É uma marca de comunicação divertida</th>\n",
       "      <td>1546</td>\n",
       "    </tr>\n",
       "    <tr>\n",
       "      <th>Oferece sempre novidades</th>\n",
       "      <td>1309</td>\n",
       "    </tr>\n",
       "    <tr>\n",
       "      <th>É a marca líder na categoria</th>\n",
       "      <td>1666</td>\n",
       "    </tr>\n",
       "    <tr>\n",
       "      <th>É uma marca que se preocupa com o usuário.</th>\n",
       "      <td>1339</td>\n",
       "    </tr>\n",
       "  </tbody>\n",
       "</table>\n",
       "</div>"
      ],
      "text/plain": [
       "qtde_respondentes                                      1\n",
       "Marca                                                  0\n",
       "É uma marca que todos falam bem                     1307\n",
       "Relaciono os produtos dessa marca com hábitos s...  1655\n",
       "Eu entento os valores da marca                      1238\n",
       "É uma marca com preocupação ambiental               1254\n",
       "Tem uma variedade de produtos que combinam com ...  1604\n",
       "As promoções são atrativas                          1103\n",
       "Os produtos são de qualidade                        1677\n",
       "Melhora o rendimento das revendedoras               1274\n",
       "É uma marca que me oferece brindes e benefícios     1552\n",
       "É uma marca mais barata que as outras da mesma ...   908\n",
       "É uma marca focada no consumidor                    1410\n",
       "É amigável                                          1523\n",
       "Tem um bom custo benefício                          1272\n",
       "Consigo perceber a tecnologia do produto            1409\n",
       "É uma marca profissional                            1714\n",
       "Tenho confiança na marca                            1572\n",
       "Torna a minha vida mais prática                     1675\n",
       "Conversa com a minha auto estima                    1648\n",
       "É uma marca de comunicação divertida                1546\n",
       "Oferece sempre novidades                            1309\n",
       "É a marca líder na categoria                        1666\n",
       "É uma marca que se preocupa com o usuário.          1339"
      ]
     },
     "execution_count": 38,
     "metadata": {},
     "output_type": "execute_result"
    }
   ],
   "source": [
    "#análise das quantidades de \"Yes\" para cada variável,afim de identificiar os pontos fracos e fortes da Marca B\n",
    "respostas_positivas_marca_B.T"
   ]
  },
  {
   "cell_type": "markdown",
   "id": "4b99582c",
   "metadata": {},
   "source": [
    "##### Considerando que somos a Marca A e queremos atrair pessoas da Marca B, é importante investir na qualidade dos produtos, desenvolver ou trabalhar o marketing da marca com hábitos saudáveis e, diminuir a competição entre as concorrentes e se tornar líder na categoria dos produtos vendidos."
   ]
  }
 ],
 "metadata": {
  "kernelspec": {
   "display_name": "Python 3 (ipykernel)",
   "language": "python",
   "name": "python3"
  },
  "language_info": {
   "codemirror_mode": {
    "name": "ipython",
    "version": 3
   },
   "file_extension": ".py",
   "mimetype": "text/x-python",
   "name": "python",
   "nbconvert_exporter": "python",
   "pygments_lexer": "ipython3",
   "version": "3.11.4"
  }
 },
 "nbformat": 4,
 "nbformat_minor": 5
}
